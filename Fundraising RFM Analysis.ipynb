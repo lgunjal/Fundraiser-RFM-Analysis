{
 "cells": [
  {
   "cell_type": "markdown",
   "metadata": {},
   "source": [
    "# Fundraising Dataset RFM Analysis\n",
    ">In a fundraising setting, donors can be categorized based on many factors like their total giving, largest giving, relationship to the university (friend,alumni,student etc).The most popular and intuitive one is the RFM Analysis. It gives one a bird's eye view of their donor population and its characteristics. RFM stands for Recency Frequency Monetary. These words are pretty self explanatory:\n",
    "<li>Recency : The time gap between the last gift made and the present day.\n",
    "<li>Frequency : The number of donations made by each person.\n",
    "<li>Monetary : The Total value of donations made by the donor till date.\n",
    "\n",
    "RFM characteristics give an overview on the donor behaviour with respect to their gifts. This can be used to categorize them into many classes like (High Recency-Low Frequency-High Monetary),(Low Recency-Low Frequency-High Monetary) and so on. Just using this type of classification there are 8 categories that a donor can be put into. This classification helps in data driven decision making when it comes to campaigns and other fundraising activities like email campaigns etc.\n",
    "\n"
   ]
  },
  {
   "cell_type": "code",
   "execution_count": 190,
   "metadata": {},
   "outputs": [
    {
     "data": {
      "text/html": [
       "<div>\n",
       "<style>\n",
       "    .dataframe thead tr:only-child th {\n",
       "        text-align: right;\n",
       "    }\n",
       "\n",
       "    .dataframe thead th {\n",
       "        text-align: left;\n",
       "    }\n",
       "\n",
       "    .dataframe tbody tr th {\n",
       "        vertical-align: top;\n",
       "    }\n",
       "</style>\n",
       "<table border=\"1\" class=\"dataframe\">\n",
       "  <thead>\n",
       "    <tr style=\"text-align: right;\">\n",
       "      <th></th>\n",
       "      <th>ID</th>\n",
       "      <th>FISCAL_YEAR</th>\n",
       "      <th>Giving</th>\n",
       "    </tr>\n",
       "  </thead>\n",
       "  <tbody>\n",
       "    <tr>\n",
       "      <th>0</th>\n",
       "      <td>1</td>\n",
       "      <td>2015</td>\n",
       "      <td>1000</td>\n",
       "    </tr>\n",
       "    <tr>\n",
       "      <th>1</th>\n",
       "      <td>1</td>\n",
       "      <td>2016</td>\n",
       "      <td>600</td>\n",
       "    </tr>\n",
       "    <tr>\n",
       "      <th>2</th>\n",
       "      <td>2</td>\n",
       "      <td>2012</td>\n",
       "      <td>100</td>\n",
       "    </tr>\n",
       "    <tr>\n",
       "      <th>3</th>\n",
       "      <td>2</td>\n",
       "      <td>2013</td>\n",
       "      <td>55</td>\n",
       "    </tr>\n",
       "    <tr>\n",
       "      <th>4</th>\n",
       "      <td>2</td>\n",
       "      <td>2014</td>\n",
       "      <td>160</td>\n",
       "    </tr>\n",
       "  </tbody>\n",
       "</table>\n",
       "</div>"
      ],
      "text/plain": [
       "   ID  FISCAL_YEAR  Giving\n",
       "0   1         2015    1000\n",
       "1   1         2016     600\n",
       "2   2         2012     100\n",
       "3   2         2013      55\n",
       "4   2         2014     160"
      ]
     },
     "execution_count": 190,
     "metadata": {},
     "output_type": "execute_result"
    }
   ],
   "source": [
    "import pandas as pd\n",
    "import numpy as np\n",
    "import matplotlib.pyplot as plt\n",
    "import seaborn as sns\n",
    "df=pd.read_csv('SampleDataRFM.csv')\n",
    "df1=df['Giving'].str.lstrip('$') #removing $ sign from the Giving Column\n",
    "df1=df1.str.replace(',','') #Removing ',' from the column\n",
    "\n",
    "df['Giving']=pd.to_numeric(df1)#converting column to numerical value\n",
    "df.head()\n"
   ]
  },
  {
   "cell_type": "code",
   "execution_count": 192,
   "metadata": {},
   "outputs": [
    {
     "data": {
      "text/html": [
       "<div>\n",
       "<style>\n",
       "    .dataframe thead tr:only-child th {\n",
       "        text-align: right;\n",
       "    }\n",
       "\n",
       "    .dataframe thead th {\n",
       "        text-align: left;\n",
       "    }\n",
       "\n",
       "    .dataframe tbody tr th {\n",
       "        vertical-align: top;\n",
       "    }\n",
       "</style>\n",
       "<table border=\"1\" class=\"dataframe\">\n",
       "  <thead>\n",
       "    <tr style=\"text-align: right;\">\n",
       "      <th></th>\n",
       "      <th>ID</th>\n",
       "      <th>recency</th>\n",
       "      <th>frequency</th>\n",
       "      <th>monetary</th>\n",
       "    </tr>\n",
       "  </thead>\n",
       "  <tbody>\n",
       "    <tr>\n",
       "      <th>0</th>\n",
       "      <td>1</td>\n",
       "      <td>0</td>\n",
       "      <td>2</td>\n",
       "      <td>1600</td>\n",
       "    </tr>\n",
       "    <tr>\n",
       "      <th>1</th>\n",
       "      <td>2</td>\n",
       "      <td>0</td>\n",
       "      <td>5</td>\n",
       "      <td>1585</td>\n",
       "    </tr>\n",
       "    <tr>\n",
       "      <th>2</th>\n",
       "      <td>3</td>\n",
       "      <td>0</td>\n",
       "      <td>4</td>\n",
       "      <td>2930</td>\n",
       "    </tr>\n",
       "    <tr>\n",
       "      <th>3</th>\n",
       "      <td>4</td>\n",
       "      <td>0</td>\n",
       "      <td>3</td>\n",
       "      <td>1725</td>\n",
       "    </tr>\n",
       "    <tr>\n",
       "      <th>4</th>\n",
       "      <td>5</td>\n",
       "      <td>3</td>\n",
       "      <td>2</td>\n",
       "      <td>1555</td>\n",
       "    </tr>\n",
       "  </tbody>\n",
       "</table>\n",
       "</div>"
      ],
      "text/plain": [
       "   ID  recency  frequency  monetary\n",
       "0   1        0          2      1600\n",
       "1   2        0          5      1585\n",
       "2   3        0          4      2930\n",
       "3   4        0          3      1725\n",
       "4   5        3          2      1555"
      ]
     },
     "execution_count": 192,
     "metadata": {},
     "output_type": "execute_result"
    }
   ],
   "source": [
    "frequency=pd.DataFrame(df.groupby('ID').Giving.count()) #calculating donation frequency for each donor\n",
    "frequency['ID']=frequency.index\n",
    "recency=pd.DataFrame(2016-df.groupby('ID').FISCAL_YEAR.max()) #calculating recency for each donor\n",
    "recency['ID']=recency.index\n",
    "monetary=pd.DataFrame(df.groupby('ID').agg({'Giving':np.sum})) #summing donation by each donor\n",
    "monetary['ID']=monetary.index\n",
    "rf=pd.merge(recency,frequency, on='ID') #merging tables\n",
    "rfm=pd.merge(rf,monetary,on='ID')\n",
    "rfm.rename(index=str, columns={\"FISCAL_YEAR\":\"recency\",\"Giving_x\":\"frequency\",\"Giving_y\":\"monetary\"},inplace=True)\n",
    "rfm=rfm[['ID','recency','frequency','monetary']]\n",
    "rfm.head()"
   ]
  },
  {
   "cell_type": "markdown",
   "metadata": {},
   "source": []
  },
  {
   "cell_type": "code",
   "execution_count": 233,
   "metadata": {},
   "outputs": [
    {
     "data": {
      "text/html": [
       "<div>\n",
       "<style>\n",
       "    .dataframe thead tr:only-child th {\n",
       "        text-align: right;\n",
       "    }\n",
       "\n",
       "    .dataframe thead th {\n",
       "        text-align: left;\n",
       "    }\n",
       "\n",
       "    .dataframe tbody tr th {\n",
       "        vertical-align: top;\n",
       "    }\n",
       "</style>\n",
       "<table border=\"1\" class=\"dataframe\">\n",
       "  <thead>\n",
       "    <tr style=\"text-align: right;\">\n",
       "      <th></th>\n",
       "      <th>ID</th>\n",
       "      <th>recency</th>\n",
       "      <th>frequency</th>\n",
       "      <th>monetary</th>\n",
       "      <th>frequency_rank</th>\n",
       "      <th>recency_rank</th>\n",
       "      <th>monetary_rank</th>\n",
       "      <th>rfm_score</th>\n",
       "    </tr>\n",
       "  </thead>\n",
       "  <tbody>\n",
       "    <tr>\n",
       "      <th>0</th>\n",
       "      <td>1</td>\n",
       "      <td>0</td>\n",
       "      <td>2</td>\n",
       "      <td>1600</td>\n",
       "      <td>2</td>\n",
       "      <td>5</td>\n",
       "      <td>4</td>\n",
       "      <td>524</td>\n",
       "    </tr>\n",
       "    <tr>\n",
       "      <th>1</th>\n",
       "      <td>2</td>\n",
       "      <td>0</td>\n",
       "      <td>5</td>\n",
       "      <td>1585</td>\n",
       "      <td>5</td>\n",
       "      <td>5</td>\n",
       "      <td>4</td>\n",
       "      <td>554</td>\n",
       "    </tr>\n",
       "    <tr>\n",
       "      <th>2</th>\n",
       "      <td>3</td>\n",
       "      <td>0</td>\n",
       "      <td>4</td>\n",
       "      <td>2930</td>\n",
       "      <td>4</td>\n",
       "      <td>5</td>\n",
       "      <td>5</td>\n",
       "      <td>545</td>\n",
       "    </tr>\n",
       "    <tr>\n",
       "      <th>3</th>\n",
       "      <td>4</td>\n",
       "      <td>0</td>\n",
       "      <td>3</td>\n",
       "      <td>1725</td>\n",
       "      <td>3</td>\n",
       "      <td>5</td>\n",
       "      <td>4</td>\n",
       "      <td>534</td>\n",
       "    </tr>\n",
       "    <tr>\n",
       "      <th>4</th>\n",
       "      <td>5</td>\n",
       "      <td>3</td>\n",
       "      <td>2</td>\n",
       "      <td>1555</td>\n",
       "      <td>2</td>\n",
       "      <td>2</td>\n",
       "      <td>4</td>\n",
       "      <td>224</td>\n",
       "    </tr>\n",
       "  </tbody>\n",
       "</table>\n",
       "</div>"
      ],
      "text/plain": [
       "   ID  recency  frequency  monetary  frequency_rank  recency_rank  \\\n",
       "0   1        0          2      1600               2             5   \n",
       "1   2        0          5      1585               5             5   \n",
       "2   3        0          4      2930               4             5   \n",
       "3   4        0          3      1725               3             5   \n",
       "4   5        3          2      1555               2             2   \n",
       "\n",
       "   monetary_rank  rfm_score  \n",
       "0              4        524  \n",
       "1              4        554  \n",
       "2              5        545  \n",
       "3              4        534  \n",
       "4              4        224  "
      ]
     },
     "execution_count": 233,
     "metadata": {},
     "output_type": "execute_result"
    }
   ],
   "source": [
    "rfm['frequency_rank']=pd.cut(rfm['frequency'],5,labels=False)+1 #ranking frequency by quntiles\n",
    "rfm['recency_rank']=5-pd.cut(rfm['recency'],5,labels=False) #ranking recency by quntiles\n",
    "rfm['monetary_rank']=pd.qcut(rfm['monetary'],5,labels=False)+1 #ranking monetary by quntiles\n",
    "#creating weighted standardised RFM scores\n",
    "rfm['rfm_score']=(rfm['recency_rank'].astype(str)+rfm['frequency_rank'].astype(str)+rfm['monetary_rank'].astype(str)).astype(int) #RFM score\n",
    "#rfm['weighted_standardized_rfm']=(((max(rfm['recency'])-rfm['recency'])-rfm['recency'].mean())*rfm['recency_rank']/rfm['recency'].std()) +((rfm['frequency']-rfm['frequency'].mean())*rfm['frequency_rank']/rfm['frequency'].std())+((rfm['monetary_rank'])*(rfm['monetary']-rfm['monetary'].mean())/rfm['monetary'].std())\n",
    "rfm=rfm[['ID', 'recency', 'frequency','monetary','frequency_rank','recency_rank','monetary_rank','rfm_score']]\n",
    "rfm.head()"
   ]
  },
  {
   "cell_type": "markdown",
   "metadata": {
    "collapsed": true
   },
   "source": [
    "## Relationships and Distributions\n",
    ">We visually explore the relationships among RFM values and ranks to get a better understanding\n",
    "\n",
    "\n"
   ]
  },
  {
   "cell_type": "code",
   "execution_count": 234,
   "metadata": {},
   "outputs": [
    {
     "data": {
      "image/png": "[encoded data removed]",
      "text/plain": [
       "<Figure size 504x504 with 1 Axes>"
      ]
     },
     "metadata": {},
     "output_type": "display_data"
    }
   ],
   "source": [
    "plt0=plt.figure(figsize=(7,7))\n",
    "rfm['rfm_score'].hist()\n",
    "plt.title('Donor Counts in each RFM category')\n",
    "plt.xlabel('RFM Score')\n",
    "plt.ylabel('Count')\n",
    "plt.show()"
   ]
  },
  {
   "cell_type": "markdown",
   "metadata": {},
   "source": [
    "> we can see from this plot that a high number of people lie in the 500 above category. i.e high frequency, high recency,high monetary. To get a better sense of how all three values i.e R F and M are affecting our data, let us look further plots below"
   ]
  },
  {
   "cell_type": "code",
   "execution_count": 272,
   "metadata": {},
   "outputs": [
    {
     "data": {
      "image/png": "[encoded data removed]",
      "text/plain": [
       "<Figure size 504x504 with 1 Axes>"
      ]
     },
     "metadata": {},
     "output_type": "display_data"
    },
    {
     "data": {
      "image/png": "[encoded data removed]",
      "text/plain": [
       "<Figure size 432x288 with 1 Axes>"
      ]
     },
     "metadata": {},
     "output_type": "display_data"
    },
    {
     "data": {
      "text/html": [
       "<div>\n",
       "<style>\n",
       "    .dataframe thead tr:only-child th {\n",
       "        text-align: right;\n",
       "    }\n",
       "\n",
       "    .dataframe thead th {\n",
       "        text-align: left;\n",
       "    }\n",
       "\n",
       "    .dataframe tbody tr th {\n",
       "        vertical-align: top;\n",
       "    }\n",
       "</style>\n",
       "<table border=\"1\" class=\"dataframe\">\n",
       "  <thead>\n",
       "    <tr style=\"text-align: right;\">\n",
       "      <th></th>\n",
       "      <th>monetary rank</th>\n",
       "      <th>percentage gift share</th>\n",
       "      <th>population proportion</th>\n",
       "      <th>total gifts</th>\n",
       "    </tr>\n",
       "  </thead>\n",
       "  <tbody>\n",
       "    <tr>\n",
       "      <th>1</th>\n",
       "      <td>1</td>\n",
       "      <td>0.249571</td>\n",
       "      <td>20.013080</td>\n",
       "      <td>31323</td>\n",
       "    </tr>\n",
       "    <tr>\n",
       "      <th>2</th>\n",
       "      <td>2</td>\n",
       "      <td>0.982834</td>\n",
       "      <td>20.013080</td>\n",
       "      <td>123353</td>\n",
       "    </tr>\n",
       "    <tr>\n",
       "      <th>3</th>\n",
       "      <td>3</td>\n",
       "      <td>2.452339</td>\n",
       "      <td>20.013080</td>\n",
       "      <td>307787</td>\n",
       "    </tr>\n",
       "    <tr>\n",
       "      <th>4</th>\n",
       "      <td>4</td>\n",
       "      <td>7.172909</td>\n",
       "      <td>19.947678</td>\n",
       "      <td>900254</td>\n",
       "    </tr>\n",
       "    <tr>\n",
       "      <th>5</th>\n",
       "      <td>5</td>\n",
       "      <td>89.142347</td>\n",
       "      <td>20.013080</td>\n",
       "      <td>11188034</td>\n",
       "    </tr>\n",
       "  </tbody>\n",
       "</table>\n",
       "</div>"
      ],
      "text/plain": [
       "   monetary rank  percentage gift share  population proportion  total gifts\n",
       "1              1               0.249571              20.013080        31323\n",
       "2              2               0.982834              20.013080       123353\n",
       "3              3               2.452339              20.013080       307787\n",
       "4              4               7.172909              19.947678       900254\n",
       "5              5              89.142347              20.013080     11188034"
      ]
     },
     "metadata": {},
     "output_type": "display_data"
    }
   ],
   "source": [
    "plt2=plt.figure(figsize=(7,7))\n",
    "rfm['monetary'].hist()\n",
    "plt.title('Monetary counts')\n",
    "plt.xlabel('Monetary')\n",
    "plt.ylabel('Count')\n",
    "plt.show()\n",
    "\n",
    "total=rfm['monetary'].sum()\n",
    "pop=rfm['ID'].count()\n",
    "rank1=rfm[rfm['monetary_rank']==1].monetary.sum()\n",
    "rank2=rfm[rfm['monetary_rank']==2].monetary.sum()\n",
    "rank3=rfm[rfm['monetary_rank']==3].monetary.sum()\n",
    "rank4=rfm[rfm['monetary_rank']==4].monetary.sum()\n",
    "rank5=rfm[rfm['monetary_rank']==5].monetary.sum()\n",
    "\n",
    "population1=100*rfm[rfm['monetary_rank']==1].ID.count()/pop\n",
    "population2=100*rfm[rfm['monetary_rank']==2].ID.count()/pop\n",
    "population3=100*rfm[rfm['monetary_rank']==3].ID.count()/pop\n",
    "population4=100*rfm[rfm['monetary_rank']==4].ID.count()/pop\n",
    "population5=100*rfm[rfm['monetary_rank']==5].ID.count()/pop\n",
    "\n",
    "prc1=100*float(rfm[rfm['monetary_rank']==1].monetary.sum()/total)\n",
    "prc2=100*float(rfm[rfm['monetary_rank']==2].monetary.sum()/total)\n",
    "prc3=100*float(rfm[rfm['monetary_rank']==3].monetary.sum()/total)\n",
    "prc4=100*float(rfm[rfm['monetary_rank']==4].monetary.sum()/total)\n",
    "prc5=100*float(rfm[rfm['monetary_rank']==5].monetary.sum()/total)\n",
    "\n",
    "gift=pd.DataFrame({'total gifts':[rank1,rank2,rank3,rank4,rank5],\n",
    "     'population proportion':[population1,population2,population3,population4,population5],\n",
    "     'percentage gift share':[prc1,prc2,prc3,prc4,prc5],'monetary rank':[1,2,3,4,5]} ,index=[1,2,3,4,5])\n",
    "gift\n",
    "\n",
    "\n",
    "plt6=plt.figure()\n",
    "plt.bar(gift['percentage gift share'],gift['population proportion'])\n",
    "plt.title('Gift vs population ')\n",
    "plt.xlabel('Population Percentage')\n",
    "plt.ylabel('Gift Share percentage')\n",
    "plt.show()\n",
    "from IPython.display import display\n",
    "display(gift)"
   ]
  },
  {
   "cell_type": "markdown",
   "metadata": {},
   "source": [
    ">It is evident from the first plot that the data is highly right skewed. The next bar makes it all the more clear. We get to know that only about 20% of the population is repsonsible for almost 90% of the donations.The remaining 80% is responsible for only 10% of the donations.This dataset almost ideally obeys the 80-20 rule."
   ]
  },
  {
   "cell_type": "code",
   "execution_count": 183,
   "metadata": {},
   "outputs": [
    {
     "data": {
      "image/png": "[encoded data removed]",
      "text/plain": [
       "<Figure size 504x504 with 1 Axes>"
      ]
     },
     "metadata": {},
     "output_type": "display_data"
    }
   ],
   "source": [
    "plt3=plt.figure(figsize=(7,7))\n",
    "rfm['frequency'].hist()\n",
    "plt.title('Frequency counts')\n",
    "plt.xlabel('Frequency')\n",
    "plt.ylabel('Count')\n",
    "plt.show()"
   ]
  },
  {
   "cell_type": "markdown",
   "metadata": {},
   "source": [
    ">From above figure we can conclude that most of the people have donated about twice till date followed by one time donors. Number of people decreases with the frequency.\n"
   ]
  },
  {
   "cell_type": "code",
   "execution_count": 184,
   "metadata": {},
   "outputs": [
    {
     "data": {
      "image/png": "[encoded data removed]",
      "text/plain": [
       "<Figure size 504x504 with 1 Axes>"
      ]
     },
     "metadata": {},
     "output_type": "display_data"
    }
   ],
   "source": [
    "plt4=plt.figure(figsize=(7,7))\n",
    "rfm['recency'].hist()\n",
    "plt.title('Recency counts')\n",
    "plt.xlabel('Recency')\n",
    "plt.ylabel('Count')\n",
    "plt.show()"
   ]
  },
  {
   "cell_type": "markdown",
   "metadata": {},
   "source": [
    "> About 45% of the donors have donated recently. That is a good recency number as almost half of the population is present.Recent donors may mean they are potential donors for current campaigns."
   ]
  },
  {
   "cell_type": "code",
   "execution_count": 274,
   "metadata": {},
   "outputs": [
    {
     "data": {
      "image/png": "[encoded data removed]",
      "text/plain": [
       "<Figure size 504x504 with 2 Axes>"
      ]
     },
     "metadata": {},
     "output_type": "display_data"
    },
    {
     "data": {
      "text/html": [
       "<div>\n",
       "<style>\n",
       "    .dataframe thead tr:only-child th {\n",
       "        text-align: right;\n",
       "    }\n",
       "\n",
       "    .dataframe thead th {\n",
       "        text-align: left;\n",
       "    }\n",
       "\n",
       "    .dataframe tbody tr th {\n",
       "        vertical-align: top;\n",
       "    }\n",
       "</style>\n",
       "<table border=\"1\" class=\"dataframe\">\n",
       "  <thead>\n",
       "    <tr style=\"text-align: right;\">\n",
       "      <th></th>\n",
       "      <th>recency</th>\n",
       "      <th>frequency</th>\n",
       "      <th>monetary</th>\n",
       "    </tr>\n",
       "  </thead>\n",
       "  <tbody>\n",
       "    <tr>\n",
       "      <th>recency</th>\n",
       "      <td>1.000000</td>\n",
       "      <td>-0.534308</td>\n",
       "      <td>-0.079492</td>\n",
       "    </tr>\n",
       "    <tr>\n",
       "      <th>frequency</th>\n",
       "      <td>-0.534308</td>\n",
       "      <td>1.000000</td>\n",
       "      <td>0.172187</td>\n",
       "    </tr>\n",
       "    <tr>\n",
       "      <th>monetary</th>\n",
       "      <td>-0.079492</td>\n",
       "      <td>0.172187</td>\n",
       "      <td>1.000000</td>\n",
       "    </tr>\n",
       "  </tbody>\n",
       "</table>\n",
       "</div>"
      ],
      "text/plain": [
       "            recency  frequency  monetary\n",
       "recency    1.000000  -0.534308 -0.079492\n",
       "frequency -0.534308   1.000000  0.172187\n",
       "monetary  -0.079492   0.172187  1.000000"
      ]
     },
     "execution_count": 274,
     "metadata": {},
     "output_type": "execute_result"
    }
   ],
   "source": [
    "\n",
    "df_corr=rfm[['recency','frequency','monetary']]\n",
    "plt4=plt.figure(figsize=(7,7))\n",
    "sns.heatmap(df_corr.corr())\n",
    "plt.title('RFM Correlations')\n",
    "plt.show()\n",
    "df_corr.corr()"
   ]
  },
  {
   "cell_type": "markdown",
   "metadata": {},
   "source": [
    ">The above is a heatmap showing correlations between RFM metrics. We can see that recency and monetary have a slightly negative correlation, however not so strong.Recency and frequency have a good negative correlation of -0.5. Monetary and frequency have a correlation of 0.17 which is not very significant.\n",
    "The most important correlation is that of recency and frequency.This might mean than people who have donated more recently may not have donated frequently or vice versa."
   ]
  },
  {
   "cell_type": "markdown",
   "metadata": {},
   "source": [
    "## Conclusion\n",
    "\n",
    ">The main inferences derived from this analysis were:\n",
    "<li> The population is right skewed with 80% people donating only 10% of the gifts.\n",
    "<li> Almost half of the population are recent donors.\n",
    "<li> Most donors only donate once or twice.\n",
    "\n",
    ">Further scope for this project will be to model a K-means clustering based on 8 combinations of RFM so that people can be divided into clusters to better design targeted campaigns for each cluster of people.Please keep an eye out for this page, I will be updating it with the K-Means clustering model."
   ]
  },
  {
   "cell_type": "markdown",
   "metadata": {},
   "source": [
    "## Reference\n",
    "> This Dataset was obtained from the book Data Science for Fundraising (https://www.amazon.com/Data-Science-Fundraising-Data-Driven-Solutions-ebook/dp/B07B7DJR6T)."
   ]
  },
  {
   "cell_type": "code",
   "execution_count": null,
   "metadata": {
    "collapsed": true
   },
   "outputs": [],
   "source": []
  }
 ],
 "metadata": {
  "kernelspec": {
   "display_name": "Python 3",
   "language": "python",
   "name": "python3"
  },
  "language_info": {
   "codemirror_mode": {
    "name": "ipython",
    "version": 3
   },
   "file_extension": ".py",
   "mimetype": "text/x-python",
   "name": "python",
   "nbconvert_exporter": "python",
   "pygments_lexer": "ipython3",
   "version": "3.6.2"
  }
 },
 "nbformat": 4,
 "nbformat_minor": 2
}
